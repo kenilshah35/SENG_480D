{
 "cells": [
  {
   "cell_type": "code",
   "execution_count": 1,
   "id": "6fc9a355",
   "metadata": {},
   "outputs": [],
   "source": [
    "from qiskit import QuantumCircuit"
   ]
  },
  {
   "cell_type": "code",
   "execution_count": 2,
   "id": "edbabc64",
   "metadata": {},
   "outputs": [],
   "source": [
    "def Charlie():\n",
    "    circ = QuantumCircuit(2)\n",
    "    circ.h(1)\n",
    "    circ.cx(1, 0)\n",
    "    return circ"
   ]
  },
  {
   "cell_type": "code",
   "execution_count": 3,
   "id": "7a71a455",
   "metadata": {},
   "outputs": [],
   "source": [
    "def Alice(circ, qubit, msg):\n",
    "    if len(msg) != 2 or not set(msg).issubset({\"0\",\"1\"}):\n",
    "        raise ValueError(f\"message '{msg}' is invalid\")\n",
    "    if msg[1] == \"1\":\n",
    "        circ.x(qubit)\n",
    "    if msg[0] == \"1\":\n",
    "        circ.z(qubit)\n",
    "    return circ"
   ]
  },
  {
   "cell_type": "code",
   "execution_count": 4,
   "id": "3d55df57",
   "metadata": {},
   "outputs": [],
   "source": [
    "def Bob(circ):\n",
    "    circ.cx(1, 0)\n",
    "    circ.h(1)\n",
    "    return circ"
   ]
  },
  {
   "cell_type": "code",
   "execution_count": 5,
   "id": "2bc72103",
   "metadata": {},
   "outputs": [
    {
     "data": {
      "image/png": "[encoded data removed]",
      "text/plain": [
       "<Figure size 718.879x204.68 with 1 Axes>"
      ]
     },
     "metadata": {},
     "output_type": "display_data"
    }
   ],
   "source": [
    "q_circ = Charlie()\n",
    "q_circ.barrier()\n",
    "q_circ = Alice(q_circ, 1, '10')\n",
    "q_circ.barrier()\n",
    "q_circ = Bob(q_circ)\n",
    "q_circ.measure_all()\n",
    "display(q_circ.draw('mpl'))"
   ]
  }
 ],
 "metadata": {
  "kernelspec": {
   "display_name": "Qiskit",
   "language": "python",
   "name": "qiskit"
  },
  "language_info": {
   "codemirror_mode": {
    "name": "ipython",
    "version": 3
   },
   "file_extension": ".py",
   "mimetype": "text/x-python",
   "name": "python",
   "nbconvert_exporter": "python",
   "pygments_lexer": "ipython3",
   "version": "3.9.7"
  }
 },
 "nbformat": 4,
 "nbformat_minor": 5
}
