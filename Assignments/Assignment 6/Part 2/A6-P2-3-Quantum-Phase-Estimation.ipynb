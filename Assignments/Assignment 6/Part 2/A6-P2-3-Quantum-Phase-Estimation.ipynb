{
 "cells": [
  {
   "cell_type": "markdown",
   "id": "f44964a1",
   "metadata": {},
   "source": [
    "# Quantum Phase Estimation with Q#\n",
    "\n",
    "For a unitary gate such as T-gate, where, \n",
    "$$T = \\begin{bmatrix} 1 & 0 \\\\ 0 & e^{\\frac{i \\pi}{4}} \\end{bmatrix}$$\n",
    "\n",
    "Quantum Phase Estimation would give us,\n",
    "$$ T|\\psi\\rangle = \\alpha|0\\rangle + e^{2i\\pi\\theta}\\beta |1\\rangle$$\n",
    "\n",
    "where, $\\theta = ?$\n",
    "\n",
    "\n",
    "### Your Task\n",
    "Your task is to construct a Quantum Phase Estimation algorithm using 4 qubits, for estimating the phase of a T-gate, as given above."
   ]
  },
  {
   "cell_type": "code",
   "execution_count": 1,
   "id": "b46373b3",
   "metadata": {},
   "outputs": [
    {
     "data": {
      "application/x-qsharp-data": "[\"initialize\"]",
      "text/html": [
       "<ul><li>initialize</li></ul>"
      ],
      "text/plain": [
       "initialize"
      ]
     },
     "execution_count": 1,
     "metadata": {},
     "output_type": "execute_result"
    }
   ],
   "source": [
    "operation initialize (q: Qubit []) : Unit {\n",
    "    // WRITE YOUR CODE HERE\n",
    "    H(q[0]);\n",
    "    H(q[1]);\n",
    "    H(q[2]);\n",
    "    X(q[3]);\n",
    "}"
   ]
  },
  {
   "cell_type": "code",
   "execution_count": 2,
   "id": "2a9a3fe8",
   "metadata": {},
   "outputs": [
    {
     "data": {
      "application/x-qsharp-data": "[\"add_rotations\"]",
      "text/html": [
       "<ul><li>add_rotations</li></ul>"
      ],
      "text/plain": [
       "add_rotations"
      ]
     },
     "execution_count": 2,
     "metadata": {},
     "output_type": "execute_result"
    }
   ],
   "source": [
    "operation add_rotations(q: Qubit[], num_qubits: Int): Unit {\n",
    "    // WRITE YOUR CODE HERE\n",
    "    // Use R1Frac for implementing controlled rotations.\n",
    "    mutable repetitions = 1;\n",
    "    for i in 0 .. num_qubits-2{\n",
    "        for j in 0 .. repetitions-1{\n",
    "            //mutable rot = R1Frac(1,2,q[num_qubits-1]);\n",
    "            //Controlled rot([q[i]],num_qubits-1);\n",
    "            (Controlled R1Frac)([q[i]],(1,2,q[num_qubits-1]));\n",
    "        }\n",
    "        set repetitions = repetitions*2;\n",
    "    }\n",
    "    \n",
    "    // Swap\n",
    "    // Implement Swap with the help of Microsoft.Quantum.Canon.SwapReverseRegister\n",
    "    SwapReverseRegister([q[0],q[2]]);\n",
    "}"
   ]
  },
  {
   "cell_type": "code",
   "execution_count": 3,
   "id": "161f2ec6",
   "metadata": {},
   "outputs": [
    {
     "data": {
      "application/x-qsharp-data": "[\"QFT\"]",
      "text/html": [
       "<ul><li>QFT</li></ul>"
      ],
      "text/plain": [
       "QFT"
      ]
     },
     "execution_count": 3,
     "metadata": {},
     "output_type": "execute_result"
    }
   ],
   "source": [
    "operation QFT(q: Qubit[], num_qubits: Int): Unit is Adj + Ctl {\n",
    "    // WRITE YOUR CODE HERE\n",
    "    // Use R1Frac for implementing controlled rotations. \n",
    "    (Controlled R1Frac)([q[1]],(-1,1,q[2]));\n",
    "    (Controlled R1Frac)([q[0]],(-1,2,q[2]));\n",
    "    H(q[1]);\n",
    "    (Controlled R1Frac)([q[0]],(-1,1,q[1]));\n",
    "    H(q[0]);\n",
    "}"
   ]
  },
  {
   "cell_type": "markdown",
   "id": "63d60165",
   "metadata": {},
   "source": [
    "At the end, you can choose to perform measurement and reset all the qubits using %simulate (or DumpMachine), or draw the circuit using %trace.\n",
    "\n",
    "Don't forget to change the return type of the operation in case you perform measurement."
   ]
  },
  {
   "cell_type": "code",
   "execution_count": 4,
   "id": "3cf60377",
   "metadata": {},
   "outputs": [
    {
     "data": {
      "application/x-qsharp-data": "[\"QPE\"]",
      "text/html": [
       "<ul><li>QPE</li></ul>"
      ],
      "text/plain": [
       "QPE"
      ]
     },
     "execution_count": 4,
     "metadata": {},
     "output_type": "execute_result"
    }
   ],
   "source": [
    "// Call all of the above functions in a single operation to build the QPE circuit.\n",
    "\n",
    "operation QPE (): Unit {\n",
    "    use q = Qubit[4];\n",
    "    let len = Length(q);\n",
    "    \n",
    "    // Initialize the circuit \n",
    "    initialize(q);\n",
    "    \n",
    "    // Add rotations wrt T gate.\n",
    "    add_rotations(q, 4);\n",
    "    \n",
    "    // Implement QFT-dagger (adjoint)\n",
    "    Adjoint QFT(q, 4);\n",
    "    \n",
    "    // R\n",
    "    ResetAll(q);\n",
    "}"
   ]
  },
  {
   "cell_type": "code",
   "execution_count": 5,
   "id": "fa0f14fd",
   "metadata": {},
   "outputs": [
    {
     "data": {
      "application/x-qsharp-data": "{\"Html\":\"<div id='execution-path-container-e8ff5090-b652-4fd0-8bf1-5ca87db848bb' />\"}",
      "text/html": [
       "<div id='execution-path-container-e8ff5090-b652-4fd0-8bf1-5ca87db848bb' />"
      ],
      "text/plain": [
       "Microsoft.Quantum.IQSharp.Jupyter.DisplayableHtmlElement"
      ]
     },
     "metadata": {},
     "output_type": "display_data"
    }
   ],
   "source": [
    "%trace QPE"
   ]
  },
  {
   "cell_type": "code",
   "execution_count": 6,
   "id": "cbc8685a",
   "metadata": {},
   "outputs": [
    {
     "data": {
      "application/x-qsharp-data": "{\"@type\":\"tuple\"}",
      "text/plain": [
       "()"
      ]
     },
     "execution_count": 6,
     "metadata": {},
     "output_type": "execute_result"
    }
   ],
   "source": [
    "%simulate QPE"
   ]
  },
  {
   "cell_type": "markdown",
   "id": "518b5ca9",
   "metadata": {},
   "source": [
    "### Resources\n",
    "You can refer to the following link for a better look at the algorithm implementation: [Qiskit Implementation of QPE](https://qiskit.org/textbook/ch-algorithms/quantum-phase-estimation.html])"
   ]
  }
 ],
 "metadata": {
  "kernelspec": {
   "display_name": "Q#",
   "language": "qsharp",
   "name": "iqsharp"
  },
  "language_info": {
   "file_extension": ".qs",
   "mimetype": "text/x-qsharp",
   "name": "qsharp",
   "version": "0.14"
  }
 },
 "nbformat": 4,
 "nbformat_minor": 5
}
